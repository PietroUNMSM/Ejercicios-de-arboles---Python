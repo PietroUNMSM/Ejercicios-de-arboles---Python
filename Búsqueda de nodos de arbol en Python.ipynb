{
 "cells": [
  {
   "cell_type": "markdown",
   "metadata": {},
   "source": [
    "# BUSQUEDA EN ARBOLES EN PYTHON"
   ]
  },
  {
   "cell_type": "code",
   "execution_count": 3,
   "metadata": {},
   "outputs": [
    {
     "name": "stdout",
     "output_type": "stream",
     "text": [
      "\tArbol generado\n"
     ]
    }
   ],
   "source": [
    "class Nodo: \n",
    "    def __init__(self, dato): #Uso de __init__ para inicializar \n",
    "        self.izquierda = None #self referido al objeto instanciado de la clase a la cual se invoca \n",
    "        self.derecha = None\n",
    "        self.dato = dato\n",
    " \n",
    "def insertar(raiz, nodo):\n",
    "    if raiz is None:\n",
    "        raiz = nodo\n",
    "    else:\n",
    "        if raiz.dato < nodo.dato:  #condicion cuando la raiz es menor que el nodo.dato\n",
    "            if raiz.derecha is None:\n",
    "                raiz.derecha = nodo #Dicho nodo mayor se inserta a la derecha del nodo principal\n",
    "            else:\n",
    "                insertar(raiz.derecha, nodo) #funcion recursiva \n",
    "        else:      #de lo contrario cuando la raiz es mayor que el nodo dato\n",
    "            if raiz.izquierda is None:\n",
    "                raiz.izquierda = nodo\n",
    "            else:\n",
    "                insertar(raiz.izquierda, nodo)  #el nodo se transfiere al lado izquierdo\n",
    "\n",
    "raiz = Nodo(28)\n",
    "insertar(raiz, Nodo(15))\n",
    "insertar(raiz, Nodo(22))\n",
    "insertar(raiz, Nodo(9))\n",
    "insertar(raiz, Nodo(31))\n",
    "insertar(raiz, Nodo(29))\n",
    "insertar(raiz, Nodo(40))\n",
    "\n",
    "print(\"\\tArbol generado\")"
   ]
  },
  {
   "cell_type": "markdown",
   "metadata": {},
   "source": [
    "### Busqueda de datos"
   ]
  },
  {
   "cell_type": "code",
   "execution_count": 2,
   "metadata": {},
   "outputs": [
    {
     "name": "stdout",
     "output_type": "stream",
     "text": [
      "Resultados de la búsqueda de datos\n",
      "True\n",
      "False\n",
      "False\n"
     ]
    }
   ],
   "source": [
    "def buscar_dato(raiz, dato): #Funcion definida para la busqueda de datos en el arbol\n",
    "    if raiz is None:\n",
    "        retur False\n",
    "    elif raiz.dato == dato:\n",
    "        return True\n",
    "    elif dato < raiz.dato:\n",
    "        return buscar_dato(raiz.izquierda, dato)\n",
    "    else:\n",
    "        return buscar_dato(raiz.derecha, dato)\n",
    "\n",
    "print(\"Resultados de la búsqueda de datos\")\n",
    "print(buscar_dato(raiz, 22))\n",
    "print(buscar_dato(raiz, 10))\n",
    "print(buscar_dato(raiz, 100))"
   ]
  },
  {
   "cell_type": "code",
   "execution_count": null,
   "metadata": {},
   "outputs": [],
   "source": []
  }
 ],
 "metadata": {
  "kernelspec": {
   "display_name": "Python 3",
   "language": "python",
   "name": "python3"
  },
  "language_info": {
   "codemirror_mode": {
    "name": "ipython",
    "version": 3
   },
   "file_extension": ".py",
   "mimetype": "text/x-python",
   "name": "python",
   "nbconvert_exporter": "python",
   "pygments_lexer": "ipython3",
   "version": "3.7.6"
  }
 },
 "nbformat": 4,
 "nbformat_minor": 4
}
