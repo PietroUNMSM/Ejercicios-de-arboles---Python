{
 "cells": [
  {
   "cell_type": "markdown",
   "metadata": {},
   "source": [
    "# Recorridos de Arbol en Python"
   ]
  },
  {
   "cell_type": "markdown",
   "metadata": {},
   "source": [
    "### Insertando nodos en un arbol "
   ]
  },
  {
   "cell_type": "code",
   "execution_count": 6,
   "metadata": {},
   "outputs": [
    {
     "name": "stdout",
     "output_type": "stream",
     "text": [
      "\tArbol generado\n"
     ]
    }
   ],
   "source": [
    "#Codigo de Arbol: Recorridos y busqueda binaria\n",
    "class Nodo: \n",
    "    def __init__(self, dato): #Uso de __init__ para inicializar \n",
    "        self.izquierda = None #self referido al objeto instanciado de la clase a la cual se invoca \n",
    "        self.derecha = None\n",
    "        self.dato = dato\n",
    " \n",
    "def insertar(raiz, nodo):\n",
    "    if raiz is None:\n",
    "        raiz = nodo\n",
    "    else:\n",
    "        if raiz.dato < nodo.dato:  #condicion cuando la raiz es menor que el nodo.dato\n",
    "            if raiz.derecha is None:\n",
    "                raiz.derecha = nodo #Dicho nodo mayor se inserta a la derecha del nodo principal\n",
    "            else:\n",
    "                insertar(raiz.derecha, nodo) #funcion recursiva \n",
    "        else:      #de lo contrario cuando la raiz es mayor que el nodo dato\n",
    "            if raiz.izquierda is None:\n",
    "                raiz.izquierda = nodo\n",
    "            else:\n",
    "                insertar(raiz.izquierda, nodo)  #el nodo se transfiere al lado izquierdo\n",
    "\n",
    "raiz = Nodo(28)\n",
    "insertar(raiz, Nodo(15))\n",
    "insertar(raiz, Nodo(22))\n",
    "insertar(raiz, Nodo(9))\n",
    "insertar(raiz, Nodo(31))\n",
    "insertar(raiz, Nodo(29))\n",
    "insertar(raiz, Nodo(40))\n",
    "\n",
    "print(\"\\tArbol generado\")"
   ]
  },
  {
   "cell_type": "markdown",
   "metadata": {},
   "source": [
    "### Recorrido inorden"
   ]
  },
  {
   "cell_type": "code",
   "execution_count": 7,
   "metadata": {},
   "outputs": [
    {
     "name": "stdout",
     "output_type": "stream",
     "text": [
      "Orden de nodos en recorrido inorden\n",
      "9\n",
      "15\n",
      "22\n",
      "28\n",
      "29\n",
      "31\n",
      "40\n",
      "\n"
     ]
    }
   ],
   "source": [
    "def inorden(raiz): #Revisa en el sgte orden: raiz izquierda, raiz, raiz derecha\n",
    "    if raiz is not None:\n",
    "        inorden(raiz.izquierda)\n",
    "        print(raiz.dato)\n",
    "        inorden(raiz.derecha)\n",
    "        \n",
    "print(\"Orden de nodos en recorrido inorden\")\n",
    "inorden(raiz)\n",
    "print()        \n",
    "    "
   ]
  },
  {
   "cell_type": "markdown",
   "metadata": {},
   "source": [
    "### Recorrido preorden"
   ]
  },
  {
   "cell_type": "code",
   "execution_count": 8,
   "metadata": {},
   "outputs": [
    {
     "name": "stdout",
     "output_type": "stream",
     "text": [
      "Orden de nodos en recorrido preorden\n",
      "28\n",
      "15\n",
      "9\n",
      "22\n",
      "31\n",
      "29\n",
      "40\n",
      "\n"
     ]
    }
   ],
   "source": [
    "\n",
    "def preorden(raiz): #Revisa en el sgte orden: raiz, raiz izquierda, raiz derecha\n",
    "    if raiz is not None:\n",
    "        print(raiz.dato)\n",
    "        preorden(raiz.izquierda)\n",
    "        preorden(raiz.derecha)\n",
    "        \n",
    "print(\"Orden de nodos en recorrido preorden\")\n",
    "preorden(raiz)\n",
    "print()"
   ]
  },
  {
   "cell_type": "markdown",
   "metadata": {},
   "source": [
    "### Recorrido postorden "
   ]
  },
  {
   "cell_type": "code",
   "execution_count": 9,
   "metadata": {},
   "outputs": [
    {
     "name": "stdout",
     "output_type": "stream",
     "text": [
      "Orden de nodos en recorrido postorden\n",
      "9\n",
      "22\n",
      "15\n",
      "29\n",
      "40\n",
      "31\n",
      "28\n",
      "\n"
     ]
    }
   ],
   "source": [
    "def postorden(raiz):  #Revisa en el sgte orden: raiz izquierda, raiz derecha, raiz\n",
    "    if raiz is not None:\n",
    "        postorden(raiz.izquierda)\n",
    "        postorden(raiz.derecha)\n",
    "        print(raiz.dato)\n",
    "        \n",
    "print(\"Orden de nodos en recorrido postorden\")\n",
    "postorden(raiz)\n",
    "print()"
   ]
  },
  {
   "cell_type": "code",
   "execution_count": null,
   "metadata": {},
   "outputs": [],
   "source": []
  }
 ],
 "metadata": {
  "kernelspec": {
   "display_name": "Python 3",
   "language": "python",
   "name": "python3"
  },
  "language_info": {
   "codemirror_mode": {
    "name": "ipython",
    "version": 3
   },
   "file_extension": ".py",
   "mimetype": "text/x-python",
   "name": "python",
   "nbconvert_exporter": "python",
   "pygments_lexer": "ipython3",
   "version": "3.7.6"
  }
 },
 "nbformat": 4,
 "nbformat_minor": 4
}
